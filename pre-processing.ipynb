{
 "cells": [
  {
   "cell_type": "markdown",
   "metadata": {},
   "source": [
    "# Pre Processing data\n",
    "This notebook gives a basic overview of what you can achieve by pre-processing data"
   ]
  },
  {
   "cell_type": "code",
   "execution_count": null,
   "metadata": {},
   "outputs": [],
   "source": [
    "import pandas as pd\n",
    "import numpy as np\n",
    "\n",
    "def build_nan_df():\n",
    "    table = [[1 , 2, 3, 10], [3, 4, 8, None]]\n",
    "    df = pd.DataFrame(table)\n",
    "    df = df.transpose()\n",
    "    df.columns = ['Heading1', 'Heading2']\n",
    "    return df\n",
    "\n",
    "df = build_nan_df()\n",
    "df\n"
   ]
  },
  {
   "cell_type": "markdown",
   "metadata": {},
   "source": [
    "#### Missing Values"
   ]
  },
  {
   "cell_type": "code",
   "execution_count": null,
   "metadata": {},
   "outputs": [],
   "source": [
    "df.dropna()\n",
    "df"
   ]
  },
  {
   "cell_type": "code",
   "execution_count": null,
   "metadata": {},
   "outputs": [],
   "source": [
    "df.dropna(axis=0, inplace=True) # drops rows with NaN, axis=1 drops columns\n",
    "df"
   ]
  },
  {
   "cell_type": "code",
   "execution_count": null,
   "metadata": {},
   "outputs": [],
   "source": [
    "df = build_nan_df()\n",
    "mean = df['Heading2'].mean()\n",
    "df['Heading2'] = df['Heading2'].replace(np.nan, mean)\n",
    "df\n"
   ]
  },
  {
   "cell_type": "code",
   "execution_count": null,
   "metadata": {},
   "outputs": [],
   "source": [
    "df = build_nan_df()\n",
    "df['Heading2'].fillna((df['Heading2'].mean()), inplace=True)\n",
    "df"
   ]
  },
  {
   "cell_type": "markdown",
   "metadata": {},
   "source": [
    "#### Data Normalization"
   ]
  },
  {
   "cell_type": "code",
   "execution_count": null,
   "metadata": {},
   "outputs": [],
   "source": [
    "def build_df():\n",
    "    table = [[1 , 2, 3, 10], [300, 488, 887, 370]]\n",
    "    df = pd.DataFrame(table)\n",
    "    df = df.transpose()\n",
    "    df.columns = ['x1', 'x2']\n",
    "    return df\n",
    "df = build_df()\n",
    "df"
   ]
  },
  {
   "cell_type": "code",
   "execution_count": null,
   "metadata": {},
   "outputs": [],
   "source": [
    "## Divide by Max value\n",
    "\n",
    "df['x1'] = df['x1']/df['x1'].max()\n",
    "df['x2'] = df['x2']/df['x2'].max()\n",
    "\n",
    "df"
   ]
  },
  {
   "cell_type": "code",
   "execution_count": null,
   "metadata": {},
   "outputs": [],
   "source": [
    "## Min Max Method\n",
    "df = build_df()\n",
    "def min_max(df, column_name):\n",
    "    df[column_name] = (df[column_name] - df[column_name].min())/(df[column_name].max() - df[column_name].min()) \n",
    "min_max(df, 'x1')\n",
    "min_max(df, 'x2')\n",
    "df"
   ]
  },
  {
   "cell_type": "code",
   "execution_count": null,
   "metadata": {},
   "outputs": [],
   "source": [
    "## Z-score method\n",
    "df = build_df()\n",
    "df['x1'] = (df['x1']-df['x1'].mean())/df['x1'].std()\n",
    "df['x2'] = (df['x2']-df['x2'].mean())/df['x2'].std()\n",
    "\n",
    "df"
   ]
  },
  {
   "cell_type": "markdown",
   "metadata": {},
   "source": [
    "#### Binning"
   ]
  },
  {
   "cell_type": "code",
   "execution_count": null,
   "metadata": {},
   "outputs": [],
   "source": [
    "df = build_df()\n",
    "bins = np.linspace(min(df['x2']), max(df['x2']), 4)\n",
    "group_names = ['Low', 'Medium', 'High']\n",
    "df['x2-binned'] = pd.cut(df['x2'], bins, labels=group_names, include_lowest=True)\n",
    "df"
   ]
  },
  {
   "cell_type": "code",
   "execution_count": null,
   "metadata": {},
   "outputs": [],
   "source": [
    "bins"
   ]
  },
  {
   "cell_type": "code",
   "execution_count": null,
   "metadata": {},
   "outputs": [],
   "source": [
    "def build_df():\n",
    "    table = [[1 , 2, 3, 10], [300, 488, 887, 370], ['blue', 'red', 'orange', 'blue']]\n",
    "    df = pd.DataFrame(table)\n",
    "    df = df.transpose()\n",
    "    df.columns = ['x1', 'x2', 'color']\n",
    "    return df\n",
    "df = build_df()\n",
    "df"
   ]
  },
  {
   "cell_type": "code",
   "execution_count": null,
   "metadata": {},
   "outputs": [],
   "source": [
    "pd.get_dummies(df['color'])"
   ]
  },
  {
   "cell_type": "code",
   "execution_count": null,
   "metadata": {},
   "outputs": [],
   "source": []
  }
 ],
 "metadata": {
  "kernelspec": {
   "display_name": "Python 3.9.9 ('venv': venv)",
   "language": "python",
   "name": "python3"
  },
  "language_info": {
   "codemirror_mode": {
    "name": "ipython",
    "version": 3
   },
   "file_extension": ".py",
   "mimetype": "text/x-python",
   "name": "python",
   "nbconvert_exporter": "python",
   "pygments_lexer": "ipython3",
   "version": "3.9.9"
  },
  "orig_nbformat": 4,
  "vscode": {
   "interpreter": {
    "hash": "3d16af759b510a148b4a90a63eb207982076c55d771bd2218453c806c77e1a0e"
   }
  }
 },
 "nbformat": 4,
 "nbformat_minor": 2
}
